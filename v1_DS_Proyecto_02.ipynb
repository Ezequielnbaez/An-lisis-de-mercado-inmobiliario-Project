{
  "nbformat": 4,
  "nbformat_minor": 0,
  "metadata": {
    "kernelspec": {
      "display_name": "Python 3",
      "language": "python",
      "name": "python3"
    },
    "language_info": {
      "codemirror_mode": {
        "name": "ipython",
        "version": 3
      },
      "file_extension": ".py",
      "mimetype": "text/x-python",
      "name": "python",
      "nbconvert_exporter": "python",
      "pygments_lexer": "ipython3",
      "version": "3.7.3"
    },
    "colab": {
      "name": "v1_DS_Proyecto_02.ipynb",
      "provenance": [],
      "collapsed_sections": []
    }
  },
  "cells": [
    {
      "cell_type": "markdown",
      "metadata": {
        "id": "38tA-ErIC4OD"
      },
      "source": [
        "# Proyecto- Análisis de mercado inmobiliario\n",
        "\n",
        "\n",
        "\n",
        "## Problema\n",
        "\n",
        "Recientemente te has incorporado al equipo de Datos de una gran inmobiliaria. La primera tarea que se te asigna es ayudar a los tasadores/as a valuar las propiedades, ya que es un proceso difícil y, a veces, subjetivo. Para ello, propones crear un modelo de Machine Learning que, dadas ciertas características de la propiedad, prediga su precio de venta.\n",
        "\n",
        "### 1. Pensando como un/a Data Scientist\n",
        "\n",
        "Responde la siguientes pregunta:\n",
        "1. ¿Qué datos crees que te ayudarían a trabajar en el problema?¿Por qué?\n",
        "\n",
        "**Importante**: NO deberás buscar esos datos, solamente justificar qué información crees que te ayudaría a resolver la problemática planteada."
      ]
    },
    {
      "cell_type": "markdown",
      "metadata": {
        "id": "oj6gbm-5C4OF"
      },
      "source": [
        "\n",
        "\n",
        "*   Metros cuadrados del terreno: Mientras más metros cuadrados, más valor va a tener la propiedad.\n",
        "\n",
        "*   Posición del terreno con respecto a zonas de interés: Si es una zona alejada de cualquier punto de interés perderá su valor, de la misma manera que una propiedad en el centro tendrá un valor alto.\n",
        "\n",
        "*   Materiales de construcción: La variación de los tipos de materiales usados para la construcción es uno de los factores más críticos ya que existen materiales muy poco resistentes en construcciones precarias por un lado y materiales resistentes por el otro.\n",
        "\n",
        "*   Cantidad de ambientes: Mientras más ambientes tenga construídos su valor será mayor siempre y cuando mantengan una cantidad de metros cuadrado razonables por ambiente.\n",
        "\n",
        "\n",
        "*   Instalaciones de servicios básicos (Agua,luz,etc): Estas instalaciones cuestan y por lo tanto que ya vengan con la propiedad indica una ventaja, de acuerdo a cuantos servicios vienen instalados su precio será mayor si tiene más y menor si tiene menos o ninguno.\n",
        "\n",
        "\n",
        "\n",
        "\n",
        "\n",
        "\n"
      ]
    },
    {
      "cell_type": "markdown",
      "metadata": {
        "id": "K2PLfIvLC4OK"
      },
      "source": [
        "# **1.Análisis exploratorio**"
      ]
    },
    {
      "cell_type": "markdown",
      "metadata": {
        "id": "x0avQb7DS7Rs"
      },
      "source": [
        "***1.1 Importando librerías necesarias para el análisis.***"
      ]
    },
    {
      "cell_type": "code",
      "metadata": {
        "id": "fCGVacN5C4OM"
      },
      "source": [
        "import pandas as pd\n",
        "import matplotlib.pyplot as plt\n",
        "import numpy as np\n",
        "import seaborn as sns\n",
        "\n",
        "from pandas import DataFrame"
      ],
      "execution_count": null,
      "outputs": []
    },
    {
      "cell_type": "markdown",
      "metadata": {
        "id": "5gWE6fwUC4OY"
      },
      "source": [
        "***1.2 Cargando el dataset y viendo el formato de los datos a analizar.***"
      ]
    },
    {
      "cell_type": "code",
      "metadata": {
        "id": "YL2eAd_tC4Oa"
      },
      "source": [
        "data_properties = pd.read_csv(\"/content/gdrive/MyDrive/Colab Notebooks/DS_Proyecto_01_Datos_Properati.csv\", \n",
        "                        error_bad_lines=False)"
      ],
      "execution_count": null,
      "outputs": []
    },
    {
      "cell_type": "code",
      "metadata": {
        "id": "1ZSUUd03o_uT"
      },
      "source": [
        "print(\" Cantidad de columnas:\",len(data_properties.columns),\"\\n\",\"Cantidad de filas:\",len(data_properties.index))"
      ],
      "execution_count": null,
      "outputs": []
    },
    {
      "cell_type": "code",
      "metadata": {
        "id": "TrF6Cfhbn3wM"
      },
      "source": [
        "data_properties.head()"
      ],
      "execution_count": null,
      "outputs": []
    },
    {
      "cell_type": "markdown",
      "metadata": {
        "id": "BJ-XiUsvC4Oh"
      },
      "source": [
        "***1.3 Se estudian los valores faltantes.***"
      ]
    },
    {
      "cell_type": "code",
      "metadata": {
        "id": "1QletBbgC4Oi"
      },
      "source": [
        "print(data_properties.info())"
      ],
      "execution_count": null,
      "outputs": []
    },
    {
      "cell_type": "code",
      "metadata": {
        "id": "yXQMYhzHpv-E"
      },
      "source": [
        "\n",
        "print(data_properties.isna().sum())"
      ],
      "execution_count": null,
      "outputs": []
    },
    {
      "cell_type": "markdown",
      "metadata": {
        "id": "huzZCxNOT581"
      },
      "source": [
        "Se puede reconocer que sólo la latitud, longitud, baños y variables de superficie son las características que poseen datos faltantes."
      ]
    },
    {
      "cell_type": "markdown",
      "metadata": {
        "id": "fzDXC875C4Oo"
      },
      "source": [
        "***1.4 Analisis de tipo de propiedad.***"
      ]
    },
    {
      "cell_type": "code",
      "metadata": {
        "id": "IDUVtKt8C20S"
      },
      "source": [
        "data_properties.groupby('property_type').count()"
      ],
      "execution_count": null,
      "outputs": []
    },
    {
      "cell_type": "code",
      "metadata": {
        "id": "KvVxaqPlC4Oq"
      },
      "source": [
        "\n",
        "data_properties['property_type'].value_counts()\n"
      ],
      "execution_count": null,
      "outputs": []
    },
    {
      "cell_type": "code",
      "metadata": {
        "id": "GU2T2E0ds32N"
      },
      "source": [
        "plt.subplots(figsize=(15,6))\n",
        "sns.countplot(data = data_properties, x = \"property_type\",order = data_properties[\"property_type\"].value_counts().index)\n",
        "plt.xlabel(\"Tipo\")\n",
        "plt.ylabel(\"Cantidad\")\n",
        "plt.show()"
      ],
      "execution_count": null,
      "outputs": []
    },
    {
      "cell_type": "markdown",
      "metadata": {
        "id": "dOCLnyv5U2p7"
      },
      "source": [
        "Se observa en el gráfico como por una considerable diferencia, las propiedades de tipo departamento, casa y PH son las más populares y por lo tanto serían las principales a tomar en cuenta para nuestro modelo."
      ]
    },
    {
      "cell_type": "markdown",
      "metadata": {
        "id": "zmHRGis7C4Ow"
      },
      "source": [
        "***1.5 Análisis de región de propiedad.***"
      ]
    },
    {
      "cell_type": "code",
      "metadata": {
        "id": "JvrB-EaoC4Ox"
      },
      "source": [
        "plot_region_l3 = data_properties['l3'].value_counts()\n",
        "plot_region_l2 = DataFrame(data_properties,columns=[\"l2\"])\n",
        "\n",
        "\n",
        "plt.rcParams.update({'font.size': 20})\n",
        "\n",
        "plt.subplot(2, 1, 1)\n",
        "my_labels = plot_region_l2.l2.unique()\n",
        "plt.pie(plot_region_l2.value_counts(),labels=my_labels,autopct='%1.1f%%')\n",
        "plt.title(\"Localidad\")\n",
        "plt.axis('equal')\n",
        "\n",
        "plot_region_l3 = data_properties['l3'].value_counts()\n",
        "plt.subplot(2, 1, 2)\n",
        "plot_region_l3.plot(kind=\"bar\")\n",
        "plt.rcParams[\"figure.figsize\"]=(30, 20)\n",
        "plt.title(\"Barrios\")\n",
        "plt.xlabel(\"Nombre del barrio\")\n",
        "plt.ylabel(\"Propiedades por barrio\")\n",
        "\n",
        "plt.show()"
      ],
      "execution_count": null,
      "outputs": []
    },
    {
      "cell_type": "markdown",
      "metadata": {
        "id": "YqaOK9vnWXbs"
      },
      "source": [
        "Teniendo en cuenta las distintas regiones, se puede ver como el 63% de los datos de las propiedades que poseemos son de Capital Federal, lo cual convierte a esta región en una variable importante a considerar al momento de filtrar los datos para nuestro modelo."
      ]
    },
    {
      "cell_type": "markdown",
      "metadata": {
        "id": "XJCDt8ctC4O3"
      },
      "source": [
        "***1.6. Filtro de características relevantes***"
      ]
    },
    {
      "cell_type": "markdown",
      "metadata": {
        "id": "w8jJpbxiXW-9"
      },
      "source": [
        "En el siguiente código se determina el rango de variables más importantes a considerar. En este caso se determina un rango de los tres tipos de propiedades más importantes en conjunto con la región con más cantidad de propiedades."
      ]
    },
    {
      "cell_type": "code",
      "metadata": {
        "id": "7vqzj-q4HaHB"
      },
      "source": [
        "cant_topTipos=3\n",
        "cant_topRegion=1"
      ],
      "execution_count": null,
      "outputs": []
    },
    {
      "cell_type": "code",
      "metadata": {
        "id": "B6RAGVUbGtb6"
      },
      "source": [
        "top_tipos=data_properties[\"property_type\"].value_counts().head(cant_topTipos).index.tolist()"
      ],
      "execution_count": null,
      "outputs": []
    },
    {
      "cell_type": "code",
      "metadata": {
        "id": "mIkkzHnMG4_p"
      },
      "source": [
        "top_regiones=data_properties[\"l2\"].value_counts().head(cant_topRegion).index.tolist()"
      ],
      "execution_count": null,
      "outputs": []
    },
    {
      "cell_type": "code",
      "metadata": {
        "id": "vbmACahUC4O6"
      },
      "source": [
        "data_top_properties = data_properties[data_properties.property_type.isin(top_tipos) & data_properties.l2.isin(top_regiones)]"
      ],
      "execution_count": null,
      "outputs": []
    },
    {
      "cell_type": "code",
      "metadata": {
        "id": "IJzBWcokLKnF"
      },
      "source": [
        "data_top_properties"
      ],
      "execution_count": null,
      "outputs": []
    },
    {
      "cell_type": "markdown",
      "metadata": {
        "id": "QdFSNY9VX_GF"
      },
      "source": [
        "***1.7 Filtro de outliers***"
      ]
    },
    {
      "cell_type": "markdown",
      "metadata": {
        "id": "DCkWefSMYYX1"
      },
      "source": [
        "**1.7.1 Análisis de valores generales:** Analizamos los valores generales de todas las características para usar como guía y graficamos para ver cuales variables cuentan con outliers y que tan distantes son para saber cuanto afectan a nuestro análisis. "
      ]
    },
    {
      "cell_type": "code",
      "metadata": {
        "id": "6Ad-MAOBjK_H"
      },
      "source": [
        "data_top_properties.describe()"
      ],
      "execution_count": null,
      "outputs": []
    },
    {
      "cell_type": "code",
      "metadata": {
        "id": "jAKGw8M8biEn"
      },
      "source": [
        "comp_param = [\"property_type\",\"price\",\"surface_covered\",\"surface_total\",\"rooms\",\"bedrooms\",\"bathrooms\"]"
      ],
      "execution_count": null,
      "outputs": []
    },
    {
      "cell_type": "code",
      "metadata": {
        "id": "emJqxkhcPHM-"
      },
      "source": [
        "plt.rcParams.update({'font.size': 10})\n",
        "figu= plt.figure()\n",
        "\n",
        "graph=sns.pairplot(data_top_properties[comp_param],hue=\"property_type\")\n",
        "graph.fig.set_size_inches(16,8)\n",
        "plt.grid()\n",
        "plt.show()"
      ],
      "execution_count": null,
      "outputs": []
    },
    {
      "cell_type": "code",
      "metadata": {
        "id": "55NwY_ubad6a"
      },
      "source": [
        "plt.subplot(2, 1, 1)\n",
        "sns.boxplot(data=data_top_properties,x=\"surface_total\")\n",
        "\n",
        "plt.subplot(2, 1, 2)\n",
        "sns.boxplot(data=data_top_properties,x=\"surface_covered\")\n",
        "plt.show()"
      ],
      "execution_count": null,
      "outputs": []
    },
    {
      "cell_type": "code",
      "metadata": {
        "id": "Q1uiVIOYXjhB"
      },
      "source": [
        "sns.scatterplot(x=\"surface_total\",y=\"surface_covered\", hue=\"property_type\" , data=data_top_properties)"
      ],
      "execution_count": null,
      "outputs": []
    },
    {
      "cell_type": "markdown",
      "metadata": {
        "id": "C23wuVAPZFPy"
      },
      "source": [
        "Se puede ver a plena vista como a partir de valores mayores a 20.000 en superficies totales y cubiertas ya podrían ser considerados outliers pero para un análisis más preciso se recurrirá al Z-Score y el IQR."
      ]
    },
    {
      "cell_type": "markdown",
      "metadata": {
        "id": "MlfQPWPndvaj"
      },
      "source": [
        "**1.7.2 Análisis Z-score y IQR.**"
      ]
    },
    {
      "cell_type": "markdown",
      "metadata": {
        "id": "WZUp5oT29DiC"
      },
      "source": [
        "**Z-Score:** Analizo los distintos valores de Z-score para tener como referencia además del IQR haciendo comparación en cual sería la efectividad de cada uno en caso de tomar como filtro de outliers."
      ]
    },
    {
      "cell_type": "code",
      "metadata": {
        "id": "sn8UOaAmfEDq"
      },
      "source": [
        "data_top_properties_2 = data_top_properties[comp_param].copy()"
      ],
      "execution_count": null,
      "outputs": []
    },
    {
      "cell_type": "code",
      "metadata": {
        "id": "cRu-858w94IJ"
      },
      "source": [
        "outliers=[]\n",
        "def detect_outliers(data):\n",
        "\n",
        "  threshold = 3\n",
        "  mean = np.mean(data)\n",
        "  std = np.std(data)\n",
        "\n",
        "  for i in data: \n",
        "    z_score = (i-mean)/std\n",
        "    if np.abs(z_score) > threshold:\n",
        "      outliers.append(i)\n",
        "  return outliers"
      ],
      "execution_count": null,
      "outputs": []
    },
    {
      "cell_type": "code",
      "metadata": {
        "id": "r_RYf62UWcTZ"
      },
      "source": [
        "outlier_surface_total=detect_outliers(data_top_properties_2[\"surface_total\"])\n",
        "outlier_surface_covered=detect_outliers(data_top_properties_2[\"surface_covered\"])\n",
        "outlier_price=detect_outliers(data_top_properties_2[\"price\"])\n",
        "print(\"Outliers de total de superficie:\",outlier_surface_total)\n",
        "print(\"Outliers de superficie cubierta:\",outlier_surface_covered)\n",
        "print(\"Outliers de precio:\",outlier_price)"
      ],
      "execution_count": null,
      "outputs": []
    },
    {
      "cell_type": "markdown",
      "metadata": {
        "id": "5bIkhau9ZDI1"
      },
      "source": [
        "**IQR:** Considero que el filtro de IQR es más preciso al momento de filtrar por cuartiles."
      ]
    },
    {
      "cell_type": "code",
      "metadata": {
        "id": "5JHO5MV2ft0r"
      },
      "source": [
        "def detect_IQR(data):\n",
        "  Q1=data_top_properties_2[data].quantile(0.25)\n",
        "  Q3=data_top_properties_2[data].quantile(0.75)\n",
        "  IQR= Q3-Q1\n",
        "  print(\"Superficie maxima:\",data_top_properties_2[data].max())\n",
        "  print(\"Superficie minima:\",data_top_properties_2[data].min())\n",
        "  print(\"IQR:\",IQR)\n",
        "\n"
      ],
      "execution_count": null,
      "outputs": []
    },
    {
      "cell_type": "code",
      "metadata": {
        "id": "2lA01xrhZq3G"
      },
      "source": [
        "print(\"Superficie total\")\n",
        "print(\"----------------------\")\n",
        "detect_IQR(\"surface_total\")"
      ],
      "execution_count": null,
      "outputs": []
    },
    {
      "cell_type": "code",
      "metadata": {
        "id": "YXaBuPWVgRfc"
      },
      "source": [
        "print(\"Superficie cubierta\")\n",
        "print(\"----------------------\")\n",
        "detect_IQR(\"surface_covered\")"
      ],
      "execution_count": null,
      "outputs": []
    },
    {
      "cell_type": "code",
      "metadata": {
        "id": "MpkPZj25gUnp"
      },
      "source": [
        "print(\"Precio\")\n",
        "print(\"----------------------\")\n",
        "detect_IQR(\"price\")"
      ],
      "execution_count": null,
      "outputs": []
    },
    {
      "cell_type": "markdown",
      "metadata": {
        "id": "HUDxTPMNYQQi"
      },
      "source": [
        "**1.7.3 Aplico el filtro de IQR.**\n"
      ]
    },
    {
      "cell_type": "code",
      "metadata": {
        "id": "HmX4G6R8kH3r"
      },
      "source": [
        "def IQR_filter(dataf,dataname):\n",
        "    q1 = dataf[dataname].quantile(0.25)\n",
        "    q3 = dataf[dataname].quantile(0.75)\n",
        "    iqr = q3 - q1\n",
        "    fence_low = q1 - 1.5 * iqr\n",
        "    fence_high = q3 + 1.5 * iqr\n",
        "    cleaned_data = dataf.loc[(dataf[dataname] > fence_low) & (dataf[dataname] < fence_high)]\n",
        "    return cleaned_data"
      ],
      "execution_count": null,
      "outputs": []
    },
    {
      "cell_type": "code",
      "metadata": {
        "id": "qN_KNitmkXIy"
      },
      "source": [
        "properties_filtered = IQR_filter(data_top_properties_2,\"surface_total\")\n",
        "properties_filtered = IQR_filter(properties_filtered,\"surface_covered\")\n",
        "properties_filtered = IQR_filter(properties_filtered,\"price\")\n",
        "properties_filtered = properties_filtered[properties_filtered.surface_total > properties_filtered.surface_covered]"
      ],
      "execution_count": null,
      "outputs": []
    },
    {
      "cell_type": "markdown",
      "metadata": {
        "id": "XC1_7G9bddrf"
      },
      "source": [
        "*Compruebo que los outliers fueron filtrados*"
      ]
    },
    {
      "cell_type": "code",
      "metadata": {
        "id": "Wy6gBFqMkZiT"
      },
      "source": [
        "print(\"Superficie total máxima\")\n",
        "print(\"----------------------\")\n",
        "\n",
        "print(properties_filtered[\"surface_total\"].max(),\"\\n\")\n",
        "print(\"Superficie cubierta máxima\")\n",
        "print(\"----------------------\")\n",
        "\n",
        "print(properties_filtered[\"surface_covered\"].max(),\"\\n\")\n",
        "print(\"Precio máximo\")\n",
        "print(\"----------------------\")\n",
        "\n",
        "print(properties_filtered[\"price\"].max(),\"\\n\")"
      ],
      "execution_count": null,
      "outputs": []
    },
    {
      "cell_type": "code",
      "metadata": {
        "id": "uU4Fh6q-YZea"
      },
      "source": [
        "print(\"Máximo de superficie total:\", properties_filtered[\"surface_total\"].max())\n",
        "print(\"Máximo de superficie cubierta:\", properties_filtered[\"surface_covered\"].max())\n",
        "\n",
        "plt.subplot(2, 1, 1)\n",
        "sns.boxplot(data=properties_filtered,x=\"surface_total\")\n",
        "\n",
        "plt.subplot(2, 1, 2)\n",
        "sns.boxplot(data=properties_filtered,x=\"surface_covered\")\n",
        "plt.show()"
      ],
      "execution_count": null,
      "outputs": []
    },
    {
      "cell_type": "code",
      "metadata": {
        "id": "EncKqu9alVbb"
      },
      "source": [
        "plt.rcParams.update({'font.size': 10})\n",
        "figu= plt.figure()\n",
        "\n",
        "graph=sns.pairplot(properties_filtered[comp_param],hue=\"property_type\")\n",
        "graph.fig.set_size_inches(16,8)\n",
        "plt.grid()\n",
        "plt.show()"
      ],
      "execution_count": null,
      "outputs": []
    },
    {
      "cell_type": "markdown",
      "metadata": {
        "id": "kf_a_kZPmUoE"
      },
      "source": [
        "Ahora el análisis visual es más fácil de hacer, se pueden reconocer agrupaciones de valores por secciones, aunque la abundancia de datos dispersos puede aun dificultar el análisis."
      ]
    },
    {
      "cell_type": "markdown",
      "metadata": {
        "id": "B2EMvGFoC4PF"
      },
      "source": [
        "**1.7.4 Correlaciones:** Los valores más correlacionados con el precio incluyen la superficie cubierta , la superficie total y la cantidad de cuartos."
      ]
    },
    {
      "cell_type": "code",
      "metadata": {
        "id": "4DJ-aGD-C4PG"
      },
      "source": [
        "corr = properties_filtered.corr()\n",
        "\n",
        "plt.figure(figsize=(8,8))\n",
        "sns.heatmap(corr, cbar = True,  square = True, annot=True, fmt= '.2f',annot_kws={'size': 15},\n",
        "           cmap= 'coolwarm')\n",
        "plt.xticks(rotation = 45)\n",
        "plt.yticks(rotation = 45)\n",
        "plt.show()\n"
      ],
      "execution_count": null,
      "outputs": []
    },
    {
      "cell_type": "markdown",
      "metadata": {
        "id": "AUBaOrNYC4PK"
      },
      "source": [
        "# **2. Desafío**"
      ]
    },
    {
      "cell_type": "markdown",
      "metadata": {
        "id": "P3DoEAkXYas_"
      },
      "source": [
        "Con los datos obtenidos hasta ahora se puede analizar con más profundidad los datos de latitud y longitud ayudando a aclarar una pregunta: *¿Hay relación entre ubicación y precio?*"
      ]
    },
    {
      "cell_type": "markdown",
      "metadata": {
        "id": "sl8SZiPzf7RT"
      },
      "source": [
        "*2.1 Instalo los paquetes e importo las librerías necesarias*"
      ]
    },
    {
      "cell_type": "code",
      "metadata": {
        "id": "wMPAJ6pMY7S3"
      },
      "source": [
        "!pip install geopandas"
      ],
      "execution_count": null,
      "outputs": []
    },
    {
      "cell_type": "code",
      "metadata": {
        "id": "2k6Qqowwi0kz"
      },
      "source": [
        "!pip install geoplot"
      ],
      "execution_count": null,
      "outputs": []
    },
    {
      "cell_type": "code",
      "metadata": {
        "id": "LSMh6gsMYY3W"
      },
      "source": [
        "import descartes\n",
        "import mapclassify as mc\n",
        "from shapely.geometry import Point, Polygon\n",
        "\n",
        "import geoplot as gplt\n",
        "import geoplot.crs as gcrs\n",
        "import geopandas as gpd\n",
        "\n",
        "%matplotlib inline"
      ],
      "execution_count": null,
      "outputs": []
    },
    {
      "cell_type": "code",
      "metadata": {
        "id": "3J5cDOzRXx6-"
      },
      "source": [
        "data_map = pd.read_csv(\"/content/drive/MyDrive/Colab Notebooks/DS_Proyecto_01_Datos_Properati.csv\", \n",
        "                        error_bad_lines=False)"
      ],
      "execution_count": null,
      "outputs": []
    },
    {
      "cell_type": "markdown",
      "metadata": {
        "id": "FI6WMQOjgQaJ"
      },
      "source": [
        "*2.2 Realizo un dataframe para poder graficar las latitudes y longitudes como puntos*"
      ]
    },
    {
      "cell_type": "code",
      "metadata": {
        "id": "YP5txPE2Xv0m"
      },
      "source": [
        "filter_type= [\"Casa\",\"Departamento\",\"PH\"]\n",
        "filter_reg= [\"Capital Federal\"]\n",
        "data_map = data_map[data_map.property_type.isin(filter_type)]\n",
        "data_map = data_map[data_map.l2.isin(filter_reg)]\n",
        "mask1 = (data_map.surface_total <= 1000) & (data_map.surface_total >= 15) & (data_map.price <= 4000000)\n",
        "data_map = data_map[mask1]\n",
        "data_map = data_map.loc[:,[\"rooms\",\"bedrooms\",\"bathrooms\",\"surface_total\",\"surface_covered\",\"price\",\"lat\",\"lon\",\"property_type\"]]\n",
        "data_map.dropna(inplace=True)\n",
        "print(data_map.shape)\n",
        "data_map"
      ],
      "execution_count": null,
      "outputs": []
    },
    {
      "cell_type": "code",
      "metadata": {
        "id": "XFA8x3MibRI4"
      },
      "source": [
        "crs = {\"init\": \"EPSG:4326\"}"
      ],
      "execution_count": null,
      "outputs": []
    },
    {
      "cell_type": "code",
      "metadata": {
        "id": "X33dYRL6bAio"
      },
      "source": [
        "geometry = [Point(xy) for xy in zip(data_map[\"lon\"],data_map[\"lat\"])]\n",
        "geometry[:3]"
      ],
      "execution_count": null,
      "outputs": []
    },
    {
      "cell_type": "code",
      "metadata": {
        "id": "a2aCIzAuZkRO"
      },
      "source": [
        "geo_df = gpd.GeoDataFrame(data_map, crs=crs, geometry = geometry)\n",
        "geo_df.head()"
      ],
      "execution_count": null,
      "outputs": []
    },
    {
      "cell_type": "code",
      "metadata": {
        "id": "LmwFKg3Pgk5K"
      },
      "source": [
        "gplt.pointplot(geo_df, hue=\"price\", legend=True)"
      ],
      "execution_count": null,
      "outputs": []
    },
    {
      "cell_type": "markdown",
      "metadata": {
        "id": "-03n8RlsnnFw"
      },
      "source": [
        "Teniendo los datos visuales se puede ver que hay zonas que se considerarían céntricas, cerca de la costa, que podrían establecer una relación entre posición y precio, siendo los precios más bajos los más alejados de esa posición."
      ]
    },
    {
      "cell_type": "markdown",
      "metadata": {
        "id": "ULhoMAo_C4PP"
      },
      "source": [
        "# **3. Machine Learning**\n",
        "\n"
      ]
    },
    {
      "cell_type": "markdown",
      "metadata": {
        "id": "KEq0NM9KAzI0"
      },
      "source": [
        "**3.1 Filtrando el dataset.**"
      ]
    },
    {
      "cell_type": "code",
      "metadata": {
        "id": "QSqa1vJQC4PR"
      },
      "source": [
        "data_ml = pd.read_csv(\"/content/gdrive/MyDrive/Colab Notebooks/DS_Proyecto_01_Datos_Properati.csv\", \n",
        "                        error_bad_lines=False)"
      ],
      "execution_count": null,
      "outputs": []
    },
    {
      "cell_type": "code",
      "metadata": {
        "id": "1khK4NwD_SVb"
      },
      "source": [
        "filter_type= [\"Casa\",\"Departamento\",\"PH\"]\n",
        "filter_reg= [\"Capital Federal\"]\n",
        "data_ml = data_ml[data_ml.property_type.isin(filter_type)]\n",
        "data_ml = data_ml[data_ml.l2.isin(filter_reg)]\n",
        "mask1 = (data_ml.surface_total <= 1000) & (data_ml.surface_total >= 15) & (data_ml.price <= 4000000)\n",
        "data_ml = data_ml[mask1]\n",
        "data_ml = data_ml.loc[:,[\"rooms\",\"bedrooms\",\"bathrooms\",\"surface_total\",\"surface_covered\",\"price\"]]\n",
        "data_ml.dropna(inplace=True)\n",
        "print(data_ml.shape)"
      ],
      "execution_count": null,
      "outputs": []
    },
    {
      "cell_type": "markdown",
      "metadata": {
        "id": "jVzeJMCJhU4p"
      },
      "source": [
        "**3.2 Métricas**"
      ]
    },
    {
      "cell_type": "markdown",
      "metadata": {
        "id": "rDyRiY1_Bpgp"
      },
      "source": [
        "Para elegir las métricas consideré las más comunes a utilizar haciendo tanto métricas de evaluación sobre errores (RMSE,MAE) como de desempeño (R2):\n",
        "\n",
        "*   Mean Squared Error (MSE)\n",
        "*   Root Mean Squared Error (RMSE)\n",
        "*   Mean Absolute Error (MAE)\n",
        "*   R2\n",
        "\n",
        "Se utilizará el error cuadrático medio que representa a la raíz cuadrada de la distancia cuadrada promedio entre el valor real y el valor pronosticado.Indica el ajuste absoluto del modelo a los datos, cuán cerca están los puntos de datos observados de los valores predichos del modelo.\n",
        "Por último el error cuadrático medio no es del todo intuitivo porque nos da el error medio al cuadrado. Así que si el valor de bienes inmuebles tiene un error cuadrático medio de 1.000.000 parece que tiene mucho error cuando en realidad sería la raíz de 1000 en la media.\n",
        "Por este motivo uso como referencia el RMSE que saca la raíz del MSE.\n"
      ]
    },
    {
      "cell_type": "markdown",
      "metadata": {
        "id": "XwuLuXnUiUhi"
      },
      "source": [
        "**3.3 Recursos necesarios para el modelo**"
      ]
    },
    {
      "cell_type": "code",
      "metadata": {
        "id": "T1S-5zoBClkt"
      },
      "source": [
        "import math\n",
        "from math import sqrt\n",
        "\n",
        "from sklearn.model_selection import train_test_split\n",
        "\n",
        "from sklearn import metrics\n",
        "from sklearn import neighbors\n",
        "from sklearn.metrics import mean_absolute_error\n",
        "from sklearn.metrics import mean_squared_error\n",
        "from sklearn.metrics import r2_score\n",
        "\n",
        "from sklearn.tree import DecisionTreeRegressor\n",
        "from sklearn.neighbors import KNeighborsRegressor\n",
        "from sklearn.linear_model import LinearRegression\n",
        "\n",
        "\n",
        "from sklearn.svm import SVR\n",
        "from statsmodels.stats.outliers_influence import variance_inflation_factor\n",
        "from sklearn import preprocessing\n",
        "from sklearn.feature_selection import RFE\n"
      ],
      "execution_count": null,
      "outputs": []
    },
    {
      "cell_type": "markdown",
      "metadata": {
        "id": "xAu7lWNwE_x4"
      },
      "source": [
        "*3.3.1 Variables predictoras(X) y a predecir(y)*"
      ]
    },
    {
      "cell_type": "code",
      "metadata": {
        "id": "o7hkMXdiFDdF"
      },
      "source": [
        "X = data_ml [[\"surface_total\",\"surface_covered\",\"bathrooms\",\"bedrooms\"]]\n",
        "y = data_ml [\"price\"]"
      ],
      "execution_count": null,
      "outputs": []
    },
    {
      "cell_type": "markdown",
      "metadata": {
        "id": "wqKDbdaUG6T1"
      },
      "source": [
        "*3.3.2 Train/test de datos*"
      ]
    },
    {
      "cell_type": "code",
      "metadata": {
        "id": "e7xyFKkfFwVh"
      },
      "source": [
        "X_train, X_test, y_train, y_test = train_test_split(X, y, random_state=42)"
      ],
      "execution_count": null,
      "outputs": []
    },
    {
      "cell_type": "markdown",
      "metadata": {
        "id": "s-fkJC8pG98Q"
      },
      "source": [
        "**3.4 Benchmark:** Regresión lineal."
      ]
    },
    {
      "cell_type": "code",
      "metadata": {
        "id": "Ine4eNwFG_Nv"
      },
      "source": [
        "bench = LinearRegression()\n",
        "bench.fit(X_train, y_train)"
      ],
      "execution_count": null,
      "outputs": []
    },
    {
      "cell_type": "code",
      "metadata": {
        "id": "PvtAkfO6HYc-"
      },
      "source": [
        "y_bench_train_pred = bench.predict(X_train)\n",
        "y_bench_test_pred = bench.predict(X_test)"
      ],
      "execution_count": null,
      "outputs": []
    },
    {
      "cell_type": "markdown",
      "metadata": {
        "id": "4jNW_HQ-Htkv"
      },
      "source": [
        "*3.4.1 Evaluación de benchmark.*"
      ]
    },
    {
      "cell_type": "markdown",
      "metadata": {
        "id": "KSkKiO8wTS9L"
      },
      "source": [
        "*Creo una función para evaluar el modelo ya que el código se repetirá varias veces*"
      ]
    },
    {
      "cell_type": "code",
      "metadata": {
        "id": "2-yz_1JmTQm8"
      },
      "source": [
        "def metricas(y_train_pred,y_test_pred):\n",
        "  MSE_train = mean_squared_error(y_train, y_train_pred)\n",
        "  MSE_test = mean_squared_error(y_test, y_test_pred)\n",
        "\n",
        "  RMSE_train = mean_squared_error(y_train, y_train_pred, squared=False)\n",
        "  RMSE_test = mean_squared_error(y_test, y_test_pred, squared=False)\n",
        "\n",
        "  MAE_train = mean_absolute_error(y_train, y_train_pred)\n",
        "  MAE_test = mean_absolute_error(y_test, y_test_pred)\n",
        "\n",
        "  R2_train = r2_score(y_train, y_train_pred)\n",
        "  R2_test = r2_score(y_test, y_test_pred)\n",
        "\n",
        "  print(\"MSE de train:\",MSE_train)\n",
        "  print(\"MSE de test:\",MSE_test)\n",
        "  print(\"Diferencia:\",MSE_train-MSE_test)\n",
        "  print(\" \")\n",
        "  print(\"RMSE de train:\",RMSE_train)\n",
        "  print(\"RMSE de test:\",RMSE_test)\n",
        "  print(\"Diferencia:\",RMSE_train-RMSE_test)\n",
        "  print(\" \")\n",
        "  print(\"MAE de train:\",MAE_train)\n",
        "  print(\"MAE de test:\",MAE_test)\n",
        "  print(\"Diferencia:\",MAE_train-MAE_test)\n",
        "  print(\" \")\n",
        "  print(\"R2 de train:\",R2_train)\n",
        "  print(\"R2 de test:\",R2_test)\n",
        "  print(\"Diferencia:\",R2_train-R2_test)\n",
        "  print(\" \")\n",
        "\n"
      ],
      "execution_count": null,
      "outputs": []
    },
    {
      "cell_type": "code",
      "metadata": {
        "id": "TDEWodMdHwHW"
      },
      "source": [
        "metricas(y_bench_train_pred,y_bench_test_pred)"
      ],
      "execution_count": null,
      "outputs": []
    },
    {
      "cell_type": "markdown",
      "metadata": {
        "id": "HjrXe7oDPj6N"
      },
      "source": [
        "**3.5 Modelos de vecinos más cercanos y árbol de decisión.**\n",
        "\n"
      ]
    },
    {
      "cell_type": "code",
      "metadata": {
        "id": "lcbnACbsPjkF"
      },
      "source": [
        "regressor_knn = KNeighborsRegressor()\n",
        "regressor_tree = DecisionTreeRegressor()\n",
        "\n",
        "regressor_knn.fit(X_train, y_train)\n",
        "regressor_tree.fit(X_train, y_train)\n",
        "\n",
        "y_tree_pred_train = regressor_tree.predict(X_train)\n",
        "y_knn_pred_train = regressor_knn.predict(X_train)\n",
        "\n",
        "y_tree_pred_test = regressor_tree.predict(X_test)\n",
        "y_knn_pred_test = regressor_knn.predict(X_test)"
      ],
      "execution_count": null,
      "outputs": []
    },
    {
      "cell_type": "markdown",
      "metadata": {
        "id": "sZq7a5xKRb8S"
      },
      "source": [
        "*3.5.1 Evaluación de los modelos*"
      ]
    },
    {
      "cell_type": "code",
      "metadata": {
        "id": "4veIeJQdRdaT"
      },
      "source": [
        "print(\"Evaluación del árbol de decisiones:\",\"\\n\")\n",
        "metricas(y_tree_pred_train,y_tree_pred_test)"
      ],
      "execution_count": null,
      "outputs": []
    },
    {
      "cell_type": "code",
      "metadata": {
        "id": "IR5ISRinRvHj"
      },
      "source": [
        "print(\"Evaluación del modelo de vecinos cercanos:\",\"\\n\")\n",
        "\n",
        "metricas(y_knn_pred_train,y_knn_pred_test)"
      ],
      "execution_count": null,
      "outputs": []
    },
    {
      "cell_type": "markdown",
      "metadata": {
        "id": "UCdinZX_ImYD"
      },
      "source": [
        "**3.6 Mejorando parámetros de modelos.**"
      ]
    },
    {
      "cell_type": "markdown",
      "metadata": {
        "id": "WVtku5I4gcJc"
      },
      "source": [
        "*VECINOS MÁS CERCANOS*"
      ]
    },
    {
      "cell_type": "code",
      "metadata": {
        "id": "-xTi8CaJIokq"
      },
      "source": [
        "rmse_val_train_knn = []\n",
        "rmse_val_test_knn = [] \n",
        "scores_knn = []\n",
        "k_range = range(1,22)\n",
        "for K in k_range:\n",
        "    K = K+1\n",
        "\n",
        "    regressor_knn_3=KNeighborsRegressor(n_neighbors=K)\n",
        "    regressor_knn_3.fit(X_train,y_train)\n",
        "    scores_knn.append(regressor_knn_3.score(X_test,y_test))\n",
        "    y_knn_pred_train_3 = regressor_knn_3.predict(X_train)\n",
        "    y_knn_pred_test_3 = regressor_knn_3.predict(X_test)\n",
        "\n",
        "    RMSE_train_3 = mean_squared_error(y_train, y_knn_pred_train_3, squared=False)\n",
        "    RMSE_test_3 = mean_squared_error(y_test, y_knn_pred_test_3, squared=False)\n",
        "\n",
        "\n",
        "    rmse_val_train_knn.append(RMSE_train_3)\n",
        "    rmse_val_test_knn.append(RMSE_test_3)\n"
      ],
      "execution_count": null,
      "outputs": []
    },
    {
      "cell_type": "code",
      "metadata": {
        "id": "hvkHCNYeWHqH"
      },
      "source": [
        "\n",
        "curve_train_knn = pd.DataFrame(rmse_val_train_knn)\n",
        "curve_test_knn = pd.DataFrame(rmse_val_test_knn)\n",
        "\n",
        "fig = plt.figure(figsize = (15,4))\n",
        "ax1 = fig.add_subplot(221)\n",
        "ax2 = fig.add_subplot(222)\n",
        "ax3 = fig.add_subplot(223)\n",
        "ax4 = fig.add_subplot(224)\n",
        "\n",
        "ax1.scatter(k_range,scores_knn,marker=\"o\")\n",
        "ax2.scatter(k_range,rmse_val_train_knn, marker = \"o\",label=\"train\")\n",
        "ax2.scatter(k_range,rmse_val_test_knn, marker = \"o\",label=\"test\")\n",
        "ax3.plot(curve_train_knn)\n",
        "ax4.plot(curve_test_knn)\n",
        "\n",
        "ax1.set_xticks(k_range)\n",
        "ax2.set_xticks(k_range)\n",
        "\n",
        "plt.show()\n",
        "\n"
      ],
      "execution_count": null,
      "outputs": []
    },
    {
      "cell_type": "markdown",
      "metadata": {
        "id": "maVl_5FIhs1t"
      },
      "source": [
        "*Eligiendo número de vecinos:*\n",
        "A partir de un número de vecinos de 12 se empieza a estabilizar por más cambio en el número de vecinos haya por lo cual consideraría óptimo ese valor.\n"
      ]
    },
    {
      "cell_type": "code",
      "metadata": {
        "id": "X6Y31tIndCiq"
      },
      "source": [
        "curve_train_knn"
      ],
      "execution_count": null,
      "outputs": []
    },
    {
      "cell_type": "code",
      "metadata": {
        "id": "n5jTCF4od_eG"
      },
      "source": [
        "curve_test_knn"
      ],
      "execution_count": null,
      "outputs": []
    },
    {
      "cell_type": "markdown",
      "metadata": {
        "id": "ctNQ9T0xkJ9j"
      },
      "source": [
        "*Evaluando modelo mejorado*"
      ]
    },
    {
      "cell_type": "code",
      "metadata": {
        "id": "K1Ss7TnxOGoT"
      },
      "source": [
        "k= 12\n",
        "regressor_knn_2=KNeighborsRegressor(n_neighbors=k)\n",
        "regressor_knn_2.fit(X_train,y_train)\n",
        "y_knn_pred_train_2 = regressor_knn_2.predict(X_train)\n",
        "y_knn_pred_test_2 = regressor_knn_2.predict(X_test)"
      ],
      "execution_count": null,
      "outputs": []
    },
    {
      "cell_type": "code",
      "metadata": {
        "id": "DT9OGDk4O6G7"
      },
      "source": [
        "print(\"Evaluación del modelo de vecinos cercanos:\",\"\\n\")\n",
        "\n",
        "metricas(y_knn_pred_train_2,y_knn_pred_test_2)"
      ],
      "execution_count": null,
      "outputs": []
    },
    {
      "cell_type": "markdown",
      "metadata": {
        "id": "bPPN--2AkSni"
      },
      "source": [
        "*PROFUNDIDAD DE ÁRBOL*"
      ]
    },
    {
      "cell_type": "code",
      "metadata": {
        "id": "0F8j7I2qgi48"
      },
      "source": [
        "rmse_val_train_tree = []\n",
        "rmse_val_test_tree = [] \n",
        "scores_tree = []\n",
        "k_range = range(1,22)\n",
        "for K in k_range:\n",
        "    K = K+1\n",
        "\n",
        "    regressor_tree_3=DecisionTreeRegressor(max_depth=K,random_state=42)\n",
        "    regressor_tree_3.fit(X_train,y_train)\n",
        "    scores_tree.append(regressor_tree_3.score(X_test,y_test))\n",
        "    y_tree_pred_train_3 = regressor_tree_3.predict(X_train)\n",
        "    y_tree_pred_test_3 = regressor_tree_3.predict(X_test)\n",
        "\n",
        "    RMSE_train_3 = mean_squared_error(y_train, y_tree_pred_train_3, squared=False)\n",
        "    RMSE_test_3 = mean_squared_error(y_test, y_tree_pred_test_3, squared=False)\n",
        "\n",
        "\n",
        "    rmse_val_train_tree.append(RMSE_train_3)\n",
        "    rmse_val_test_tree.append(RMSE_test_3)"
      ],
      "execution_count": null,
      "outputs": []
    },
    {
      "cell_type": "code",
      "metadata": {
        "id": "noA9dgvLiqZN"
      },
      "source": [
        "curve_train_tree = pd.DataFrame(rmse_val_train_tree)\n",
        "curve_test_tree = pd.DataFrame(rmse_val_test_tree)\n",
        "\n",
        "fig = plt.figure(figsize = (15,4))\n",
        "ax1 = fig.add_subplot(221)\n",
        "ax2 = fig.add_subplot(222)\n",
        "ax3 = fig.add_subplot(223)\n",
        "ax4 = fig.add_subplot(224)\n",
        "\n",
        "ax1.scatter(k_range,scores_tree,marker=\"o\")\n",
        "ax2.scatter(k_range,rmse_val_train_tree, marker = \"o\",label=\"train\")\n",
        "ax2.scatter(k_range,rmse_val_test_tree, marker = \"o\",label=\"test\")\n",
        "ax3.plot(curve_train_tree)\n",
        "ax4.plot(curve_test_tree)\n",
        "\n",
        "ax1.set_xticks(k_range)\n",
        "ax2.set_xticks(k_range)\n",
        "\n",
        "plt.show()"
      ],
      "execution_count": null,
      "outputs": []
    },
    {
      "cell_type": "markdown",
      "metadata": {
        "id": "M0wtVRYBdW06"
      },
      "source": [
        "Elijo"
      ]
    },
    {
      "cell_type": "code",
      "metadata": {
        "id": "ub4X6L-_j_pe"
      },
      "source": [
        "regressor_tree_2=DecisionTreeRegressor(max_depth=4,random_state=42)\n",
        "regressor_tree_2.fit(X_train,y_train)\n",
        "y_tree_pred_train_2 = regressor_tree_2.predict(X_train)\n",
        "y_tree_pred_test_2 = regressor_tree_2.predict(X_test)"
      ],
      "execution_count": null,
      "outputs": []
    },
    {
      "cell_type": "code",
      "metadata": {
        "id": "ZuP1Lv-9keze"
      },
      "source": [
        "print(\"Evaluación del árbol de decisiones:\",\"\\n\")\n",
        "metricas(y_tree_pred_train_2,y_tree_pred_test_2)"
      ],
      "execution_count": null,
      "outputs": []
    },
    {
      "cell_type": "markdown",
      "metadata": {
        "id": "3EYwMqpRdLw0"
      },
      "source": [
        "*Elijo el número de profundidad de árbol:* Como referencia usaré 4 como profundidad ya que no se despegan mucho los modelos de training y test y da los resultados de RMSE más bajos."
      ]
    },
    {
      "cell_type": "markdown",
      "metadata": {
        "id": "evrKP-OGeQSb"
      },
      "source": [
        "**CONCLUSIÓN:** Como preferencia mostrandose en los resultados de evaluación, elegiría como principal modelo el de vecinos más cercanos, dando más precisión y similitud entre train y test"
      ]
    },
    {
      "cell_type": "markdown",
      "metadata": {
        "id": "6vdsQ2tMlWFf"
      },
      "source": [
        "**3.7 ¿Qué información no estás usando que podría ayudar al modelo?**"
      ]
    },
    {
      "cell_type": "markdown",
      "metadata": {
        "id": "y4pfJBuzlXaG"
      },
      "source": [
        "Como se comprobó en el punto 2.1, hay una relación entre el posicionamiento con respecto a zonas de interés y el precio de la vivienda. Si agregamos una columna que establezca un grado de importancia por cercanía a esas zonas, los valores de latitud y longitud podrían ser más relevantes y ayudar a establecer una predicción más precisa con la ayuda de este parámetro."
      ]
    },
    {
      "cell_type": "markdown",
      "metadata": {
        "id": "yA6Nb7zWlc2G"
      },
      "source": [
        "**3.8 ¿Qué información puede estar demás o repetida?**"
      ]
    },
    {
      "cell_type": "markdown",
      "metadata": {
        "id": "lXhIgkzQlpCG"
      },
      "source": [
        "Los datos de cuantos ambientes tienen las propiedades podrían no ser necesarios ya que se cuenta con la información del total de ambientes junto a los baños, además de tener una correlatividad demasiado alta con los cuartos lo cual podría sesgar el modelo de predicción."
      ]
    },
    {
      "cell_type": "markdown",
      "metadata": {
        "id": "wfXgMsyBYhzo"
      },
      "source": [
        "**Escalado de datos:**\n",
        "El escalado de datos se realiza cuando se tienen variables\n",
        "con distinto rango de unidades, lo cual en este dataset contamos\n",
        "con todas las unidades numéricas en el mismo tipo de unidad, metros,\n",
        "por lo tanto considero que no es necesario escalar.\n",
        "\n",
        "**Generación de nuevas variables predictoras: **Esto lo realizaría si no contáramos con la información de barrio de las distintas propiedades, lo cual se podría calcular a partir de la latitud y longitud, pero como no es el caso, esta transformación no es necesario de aplicar.\n",
        "\n",
        "**La transformación de datos** de variables categóricas a numéricas\n",
        "en este caso podría resultar útil para que el modelo las pueda utilizar,\n",
        "por lo tanto se puede proceder con One-Hot-Enconding para tratar con \n",
        "las categorías de tipo de propiedad ya que es de tipo ordinal.\n",
        "\n",
        "El dataset presenta muchos **valores faltantes:**\n",
        "Estos se tienen que tratar, para esto se debe primero analizar que tipo de\n",
        "mecanismo es y el posible motivo por el cual es un dato faltante, sea MCAR,MAR\n",
        "o MNAR.Luego observar con qué se debe proseguir, si eliminar instancias \n",
        "o eliminar variables con atributos faltantes o también puede que sea\n",
        "óptimo imputar."
      ]
    },
    {
      "cell_type": "markdown",
      "metadata": {
        "id": "NaAPL3ROspAp"
      },
      "source": [
        "# Valores faltantes\n"
      ]
    },
    {
      "cell_type": "code",
      "metadata": {
        "id": "SW-wfW1uscJ9"
      },
      "source": [
        "import missingno as msno\n",
        "from google.colab import drive\n",
        "import pandas as pd\n",
        "import matplotlib.pyplot as plt\n",
        "import numpy as np\n",
        "import seaborn as sns\n",
        "\n",
        "from pandas import DataFrame\n",
        "drive.mount(\"/content/gdrive\")\n",
        "\n",
        "data_properties_raw = pd.read_csv(\"/content/gdrive/MyDrive/Colab Notebooks/DS_Proyecto_01_Datos_Properati.csv\", \n",
        "                        error_bad_lines=False)"
      ],
      "execution_count": null,
      "outputs": []
    },
    {
      "cell_type": "code",
      "metadata": {
        "id": "tMFZatN6uO3g"
      },
      "source": [
        "data_properties_raw.head()"
      ],
      "execution_count": null,
      "outputs": []
    },
    {
      "cell_type": "markdown",
      "metadata": {
        "id": "K0ykWRCytxCZ"
      },
      "source": [
        "Primero eliminamos las columnas que no aportarían nada al modelo, primero el tipo de anuncio(operation_type) ya que no influyen en la determinación de su valor, luego las fechas del anuncio respectivo(start_date,end_date y created_on) y por último la latitud y longitud(lat,lon) ya que contamos con la información respectiva de  provincia y barrio siendo redundante el país ya que todos los datos son de Argentina también se puede eliminar."
      ]
    },
    {
      "cell_type": "code",
      "metadata": {
        "id": "yyBOFvziuWP6"
      },
      "source": [
        "data_properties_cleaned = data_properties_raw.drop(columns=['start_date','end_date','created_on','operation_type','l1',\"lat\",\"lon\"])"
      ],
      "execution_count": null,
      "outputs": []
    },
    {
      "cell_type": "markdown",
      "metadata": {
        "id": "g_VUpW_VvAt4"
      },
      "source": [
        "Repasamos los valores faltantes con este dataset, en este caso sacando el porcentaje de valores faltantes frente al total de las instancias."
      ]
    },
    {
      "cell_type": "code",
      "metadata": {
        "id": "DxhCUjxxvTIg"
      },
      "source": [
        "percent_missing = data_properties_cleaned.isna().sum() * 100 / len(data_properties_cleaned)\n",
        "percent_missing.sort_values(ascending=False)"
      ],
      "execution_count": null,
      "outputs": []
    },
    {
      "cell_type": "code",
      "metadata": {
        "id": "BAAWjdonS_uT"
      },
      "source": [
        "msno.bar(data_properties_cleaned)"
      ],
      "execution_count": null,
      "outputs": []
    },
    {
      "cell_type": "markdown",
      "metadata": {
        "id": "pa9NtFxLTG3b"
      },
      "source": [
        "Gráfico sobre los valores faltantes donde se puede ver que la superficie total y la cubierta son las variables más faltantes, seguido por los baños."
      ]
    },
    {
      "cell_type": "markdown",
      "metadata": {
        "id": "98SXfsBgv3Jx"
      },
      "source": [
        "**MCAR,MAR o MNAR:**Ahora analizamos lo aclarado previamente, el motivo por el cual son valores faltantes."
      ]
    },
    {
      "cell_type": "markdown",
      "metadata": {
        "id": "9k0gaeVcwcXA"
      },
      "source": [
        "`Superficie total`: Comparar los valores faltantes con una variable numerica, es decir si los valores faltantes dependen del valor de otra variable\n",
        "\n",
        "\n"
      ]
    },
    {
      "cell_type": "code",
      "metadata": {
        "id": "F7sil8AYwYXH"
      },
      "source": [
        "rango_superficie = pd.cut(data_properties_cleaned.surface_total, bins=20, labels=False) \n",
        "rango_superficie.value_counts()"
      ],
      "execution_count": null,
      "outputs": []
    },
    {
      "cell_type": "markdown",
      "metadata": {
        "id": "Mh1qx97NCjnC"
      },
      "source": [
        "**MAR con respecto a `rooms`** "
      ]
    },
    {
      "cell_type": "code",
      "metadata": {
        "id": "eCMChr3-dqZ4"
      },
      "source": [
        "msno.matrix(data_properties_cleaned.sort_values('rooms'));"
      ],
      "execution_count": null,
      "outputs": []
    },
    {
      "cell_type": "markdown",
      "metadata": {
        "id": "1C24cL5_y7lf"
      },
      "source": [
        "**MAR con respecto a `property_type`**\n",
        "\n",
        "---\n",
        "\n",
        "\n"
      ]
    },
    {
      "cell_type": "code",
      "metadata": {
        "id": "rnJmKdFSeDsX"
      },
      "source": [
        "msno.matrix(data_properties_cleaned.sort_values('property_type'));"
      ],
      "execution_count": null,
      "outputs": []
    },
    {
      "cell_type": "markdown",
      "metadata": {
        "id": "Sl4A3GxHeKV3"
      },
      "source": [
        "**MAR con respecto a `bedrooms`**"
      ]
    },
    {
      "cell_type": "code",
      "metadata": {
        "id": "XtKNxEHKeJ4Y"
      },
      "source": [
        "msno.matrix(data_properties_cleaned.sort_values('bedrooms'));"
      ],
      "execution_count": null,
      "outputs": []
    },
    {
      "cell_type": "markdown",
      "metadata": {
        "id": "T7Lb_6fte_ww"
      },
      "source": [
        "Los valores de bedrooms mas bajos omiten esta información"
      ]
    },
    {
      "cell_type": "markdown",
      "metadata": {
        "id": "Q1H6v2FHeUjN"
      },
      "source": [
        "**MAR con respecto a `l2`**"
      ]
    },
    {
      "cell_type": "code",
      "metadata": {
        "id": "Bra1ANknehdQ"
      },
      "source": [
        "msno.matrix(data_properties_cleaned.sort_values('l2'));"
      ],
      "execution_count": null,
      "outputs": []
    },
    {
      "cell_type": "markdown",
      "metadata": {
        "id": "CS49OsqjebEP"
      },
      "source": [
        "**MAR con respecto a `l3`**"
      ]
    },
    {
      "cell_type": "code",
      "metadata": {
        "id": "t115jstdejpv"
      },
      "source": [
        "msno.matrix(data_properties_cleaned.sort_values('l3'));"
      ],
      "execution_count": null,
      "outputs": []
    },
    {
      "cell_type": "markdown",
      "metadata": {
        "id": "jcFevNobLTtm"
      },
      "source": [
        "**MNAR:** Analizamos las correlaciones para después hacer una comparativa por si la faltante de valores depende de otros."
      ]
    },
    {
      "cell_type": "code",
      "metadata": {
        "id": "cQxHu46pLTPB"
      },
      "source": [
        "msno.heatmap(data_properties_cleaned)"
      ],
      "execution_count": null,
      "outputs": []
    },
    {
      "cell_type": "markdown",
      "metadata": {
        "id": "3VsX_E9Ubg75"
      },
      "source": [
        "En el gráfio de correlaciones se puede observar como los valores faltantes de superficie cubierta y superficie total depende uno del otro, lo cual podría llevar a deducir que estos valores faltan por el hecho de desconocer las medidas de la propiedad en general."
      ]
    },
    {
      "cell_type": "code",
      "metadata": {
        "id": "tIUx_9ueRZcM"
      },
      "source": [
        "msno.dendrogram(data_properties_cleaned)"
      ],
      "execution_count": null,
      "outputs": []
    },
    {
      "cell_type": "markdown",
      "metadata": {
        "id": "VJymWqvczBne"
      },
      "source": [
        "**Eliminar valores faltantes**: Ya detectados los posibles motivos y relaciones entre las variables se puede proseguir a imputar y eliminar los valores faltantes. En este paso se proseguiría a eliminar las columnas y filas que posean muchos valores faltantes, en el caso de las columnas no se cuenta con un porcentaje muy grande para considerar esa columna apta para ser eliminada. Por otro lado si se puede eliminar las filas con muchos valores faltantes. Luego comprobamos cuantas instancias se eliminaron."
      ]
    },
    {
      "cell_type": "code",
      "metadata": {
        "id": "V2C8i0Ka1a_W"
      },
      "source": [
        "data_properties_cleaned_v2 = data_properties_cleaned.copy()"
      ],
      "execution_count": null,
      "outputs": []
    },
    {
      "cell_type": "code",
      "metadata": {
        "id": "66JN-tGq0lNV"
      },
      "source": [
        "data_properties_cleaned_v2.dropna(inplace=True) "
      ],
      "execution_count": null,
      "outputs": []
    },
    {
      "cell_type": "code",
      "metadata": {
        "id": "rweqMa2uXA6T"
      },
      "source": [
        "data_properties_cleaned_v2.shape"
      ],
      "execution_count": null,
      "outputs": []
    },
    {
      "cell_type": "code",
      "metadata": {
        "id": "-72WdmM03Od1"
      },
      "source": [
        "print(\"Instancias con valores faltantes eliminados:\",len(data_properties_cleaned.index)-len(data_properties_cleaned_v2.index))"
      ],
      "execution_count": null,
      "outputs": []
    },
    {
      "cell_type": "code",
      "metadata": {
        "id": "ugXEH_pNtgw_"
      },
      "source": [
        "percent_missing = data_properties_cleaned_v2.isna().sum() * 100 / len(data_properties_cleaned)\n",
        "percent_missing.sort_values(ascending=False)"
      ],
      "execution_count": null,
      "outputs": []
    },
    {
      "cell_type": "markdown",
      "metadata": {
        "id": "ja3tOJr2128f"
      },
      "source": [
        "# Imputando valores faltantes por media"
      ]
    },
    {
      "cell_type": "code",
      "metadata": {
        "id": "0S_75hTW2sI2"
      },
      "source": [
        "corr = data_properties_cleaned_v2.corr()\n",
        "\n",
        "plt.figure(figsize=(8,8))\n",
        "sns.heatmap(corr, cbar = True,  square = True, annot=True, fmt= '.2f',annot_kws={'size': 15},\n",
        "           cmap= 'coolwarm')\n",
        "plt.xticks(rotation = 45)\n",
        "plt.yticks(rotation = 45)\n",
        "plt.show()\n"
      ],
      "execution_count": null,
      "outputs": []
    },
    {
      "cell_type": "markdown",
      "metadata": {
        "id": "oqRdB_VN2lfx"
      },
      "source": [
        "Imputamos primero la superficie cubierta con el tipo de propiedad"
      ]
    },
    {
      "cell_type": "code",
      "metadata": {
        "id": "hdup_9n2v-XH"
      },
      "source": [
        "media = data_properties_cleaned_v2[[\"surface_covered\",\"property_type\"]].groupby(\"property_type\").agg(pd.Series.mean)\n"
      ],
      "execution_count": null,
      "outputs": []
    },
    {
      "cell_type": "code",
      "metadata": {
        "id": "r7Uogegi1trP"
      },
      "source": [
        "media = media.to_dict()[\"surface_covered\"]"
      ],
      "execution_count": null,
      "outputs": []
    },
    {
      "cell_type": "code",
      "metadata": {
        "id": "O2m0uP51xObO"
      },
      "source": [
        "data_properties_cleaned_v2.set_index(\"property_type\", inplace=True)"
      ],
      "execution_count": null,
      "outputs": []
    },
    {
      "cell_type": "code",
      "metadata": {
        "id": "Pn3HfCxPxAE9"
      },
      "source": [
        "data_properties_cleaned_v2.surface_covered.fillna(media, inplace=True)"
      ],
      "execution_count": null,
      "outputs": []
    },
    {
      "cell_type": "code",
      "metadata": {
        "id": "gCgv746v6San"
      },
      "source": [
        "data_properties_cleaned_v2.reset_index(inplace=True)"
      ],
      "execution_count": null,
      "outputs": []
    },
    {
      "cell_type": "markdown",
      "metadata": {
        "id": "XPjBSiFd-aUw"
      },
      "source": [
        "Comprobamos que los valores fueron reemplazados"
      ]
    },
    {
      "cell_type": "code",
      "metadata": {
        "id": "F8gYTjZo6snI"
      },
      "source": [
        "percent_missing = data_properties_cleaned_v2.isna().sum() * 100 / len(data_properties_cleaned)\n",
        "percent_missing.sort_values(ascending=False)"
      ],
      "execution_count": null,
      "outputs": []
    },
    {
      "cell_type": "markdown",
      "metadata": {
        "id": "D1Wqpzvi4USQ"
      },
      "source": [
        "Imputamos la superficie total con bathrooms ya que mientras más cuartos haya probablemente tenga más superficie además que rooms no tiene valores faltantes por lo tanto no nos quedarían NaN."
      ]
    },
    {
      "cell_type": "code",
      "metadata": {
        "id": "L_S4hLmS4TXZ"
      },
      "source": [
        "media = data_properties_cleaned_v2[[\"surface_total\",\"rooms\"]].groupby(\"rooms\").agg(pd.Series.mean)"
      ],
      "execution_count": null,
      "outputs": []
    },
    {
      "cell_type": "code",
      "metadata": {
        "id": "HhSqfJtw4TXZ"
      },
      "source": [
        "media = media.to_dict()[\"surface_total\"]"
      ],
      "execution_count": null,
      "outputs": []
    },
    {
      "cell_type": "code",
      "metadata": {
        "id": "Q8hikZtz4TXZ"
      },
      "source": [
        "data_properties_cleaned_v2.set_index(\"rooms\", inplace=True)"
      ],
      "execution_count": null,
      "outputs": []
    },
    {
      "cell_type": "code",
      "metadata": {
        "id": "biNGEEf14tIw"
      },
      "source": [
        "data_properties_cleaned_v2.surface_total.fillna(media, inplace=True)"
      ],
      "execution_count": null,
      "outputs": []
    },
    {
      "cell_type": "markdown",
      "metadata": {
        "id": "EyvXX0x2xQlN"
      },
      "source": [
        "Recibe nombre de columna y lo pone como índice para luego llenar los valores nulos con la media."
      ]
    },
    {
      "cell_type": "markdown",
      "metadata": {
        "id": "gv49AAsX2h2x"
      },
      "source": [
        "Reseteamos el index"
      ]
    },
    {
      "cell_type": "code",
      "metadata": {
        "id": "_6PeBEyn0GHn"
      },
      "source": [
        "data_properties_cleaned_v2.reset_index(inplace=True)"
      ],
      "execution_count": null,
      "outputs": []
    },
    {
      "cell_type": "code",
      "metadata": {
        "id": "yLRNW4_E505A"
      },
      "source": [
        "percent_missing = data_properties_cleaned_v2.isna().sum() * 100 / len(data_properties_cleaned)\n",
        "percent_missing.sort_values(ascending=False)"
      ],
      "execution_count": null,
      "outputs": []
    },
    {
      "cell_type": "markdown",
      "metadata": {
        "id": "N5BE1pbT4IKl"
      },
      "source": [
        "#Outliers"
      ]
    },
    {
      "cell_type": "markdown",
      "metadata": {
        "id": "IxunKa8M4N7U"
      },
      "source": [
        "Antes de cualquier imputación se deben encontrar los outliers, a continuación se utilizará la regla de las tres sigmas para determinar si es outliers o no,considerando que los valores se encuentren dentro de tres desviaciones estándar de la media.Ya teniendo los outliers, se los marca como NaN así no afectan a la imputación."
      ]
    },
    {
      "cell_type": "code",
      "metadata": {
        "id": "jh5uAcFdW4a6"
      },
      "source": [
        "plt.subplot(2, 1, 1)\n",
        "sns.boxplot(data=data_properties_cleaned_v2,x=\"surface_total\")\n",
        "\n",
        "plt.subplot(2, 1, 2)\n",
        "sns.boxplot(data=data_properties_cleaned_v2,x=\"surface_covered\")\n",
        "plt.show()"
      ],
      "execution_count": null,
      "outputs": []
    },
    {
      "cell_type": "code",
      "metadata": {
        "id": "7GBhvwRVgMAH"
      },
      "source": [
        "data_properties_cleaned_v3=data_properties_cleaned_v2.copy()"
      ],
      "execution_count": null,
      "outputs": []
    },
    {
      "cell_type": "markdown",
      "metadata": {
        "id": "ksL9N43u8j1u"
      },
      "source": [
        "Imputando por media."
      ]
    },
    {
      "cell_type": "code",
      "metadata": {
        "id": "MtGbUC0E40gV"
      },
      "source": [
        "columnas = [\"surface_covered\", \"rooms\", \"price\", \"surface_total\", \"bathrooms\"]\n",
        "\n",
        "for col in columnas:\n",
        "\n",
        "  desviacion_estandard = data_properties_cleaned_v2[col].std()\n",
        "  media = data_properties_cleaned_v3[col].mean()\n",
        "\n",
        "  res = (data_properties_cleaned_v3[col] > media + desviacion_estandard*3) | (data_properties_cleaned_v3[col] < media - desviacion_estandard*3)\n",
        "  data_properties_cleaned_v3.loc[res,col]=np.nan"
      ],
      "execution_count": null,
      "outputs": []
    },
    {
      "cell_type": "code",
      "metadata": {
        "id": "TqOr0Ipb8ay-"
      },
      "source": [
        "columnas_imputar = [\"surface_total\", \"bathrooms\"]\n",
        "\n",
        "for columna in columnas_imputar:\n",
        "  data_properties_cleaned_v3[columna].fillna(data_properties_cleaned_v3[columna].median()) "
      ],
      "execution_count": null,
      "outputs": []
    },
    {
      "cell_type": "code",
      "metadata": {
        "id": "-C07FyitzO1e"
      },
      "source": [
        "data_properties_cleaned_v3.isna().sum() * 100 / data_properties_cleaned_v3.isna().count()"
      ],
      "execution_count": null,
      "outputs": []
    },
    {
      "cell_type": "markdown",
      "metadata": {
        "id": "UAggKso9gklQ"
      },
      "source": [
        "# Codificacion de variables no numericas"
      ]
    },
    {
      "cell_type": "markdown",
      "metadata": {
        "id": "iIdpgF6UnU5r"
      },
      "source": [
        "Codifico los tipos de propiedad asignandoles un número específico."
      ]
    },
    {
      "cell_type": "markdown",
      "metadata": {
        "id": "QevlHYGZu0yt"
      },
      "source": [
        "Cambio los nombres de las variables l2 y l3 para que sean más fáciles de leer."
      ]
    },
    {
      "cell_type": "code",
      "metadata": {
        "id": "F7rc608CuyNU"
      },
      "source": [
        "data_properties_cleaned_v3.rename({\"l2\":\"zona\",\"l3\":\"ciudad\"},axis=1,inplace=True)"
      ],
      "execution_count": null,
      "outputs": []
    },
    {
      "cell_type": "code",
      "metadata": {
        "id": "z-NYgF0agmRO"
      },
      "source": [
        "dicc = {\"Casa\":3,\"PH\":2,\"Departamento\":1}"
      ],
      "execution_count": null,
      "outputs": []
    },
    {
      "cell_type": "code",
      "metadata": {
        "id": "vEbossURgzgm"
      },
      "source": [
        "data_properties_cleaned_v3.property_type = data_properties_cleaned_v3.property_type.map(dicc)"
      ],
      "execution_count": null,
      "outputs": []
    },
    {
      "cell_type": "code",
      "metadata": {
        "id": "uJI0S3q3vCjU"
      },
      "source": [
        "data_properties_cleaned_v3"
      ],
      "execution_count": null,
      "outputs": []
    },
    {
      "cell_type": "markdown",
      "metadata": {
        "id": "JjaNQTY5njwj"
      },
      "source": [
        "Codifico los departamentos y ciudades con one-hot-encoding."
      ]
    },
    {
      "cell_type": "markdown",
      "metadata": {
        "id": "bCAXzVGZqKYU"
      },
      "source": [
        "Creo un diccionario con las zonas más importantes y los valores que no se encuentran se marcan como NaN."
      ]
    },
    {
      "cell_type": "code",
      "metadata": {
        "id": "twtcSoMl_xND"
      },
      "source": [
        "dicc = data_properties_cleaned_v3.zona.value_counts().iloc[:].to_dict()\n",
        "dicc = { k:k for k in dicc.keys() }"
      ],
      "execution_count": null,
      "outputs": []
    },
    {
      "cell_type": "markdown",
      "metadata": {
        "id": "CXww29anqxQD"
      },
      "source": [
        "Reemplazo la columna de zona ya que usaremos one-hot encoding y luego reemplazo los NaN en una categoría de Otros."
      ]
    },
    {
      "cell_type": "code",
      "metadata": {
        "id": "FJWv3eFRz1SQ"
      },
      "source": [
        "dicc"
      ],
      "execution_count": null,
      "outputs": []
    },
    {
      "cell_type": "code",
      "metadata": {
        "id": "5bECl7APnHBD"
      },
      "source": [
        "data_properties_cleaned_v3.zona = data_properties_cleaned_v3.zona.map(dicc)\n"
      ],
      "execution_count": null,
      "outputs": []
    },
    {
      "cell_type": "code",
      "metadata": {
        "id": "GCptp_zhzBeY"
      },
      "source": [
        "#data_properties_cleaned_v3.fillna(\"Otros\", inplace=True)"
      ],
      "execution_count": null,
      "outputs": []
    },
    {
      "cell_type": "code",
      "metadata": {
        "id": "7gwtTJIWnMID"
      },
      "source": [
        "data_properties_cleaned_v3 = pd.get_dummies(data_properties_cleaned_v3, columns=[\"zona\"])"
      ],
      "execution_count": null,
      "outputs": []
    },
    {
      "cell_type": "code",
      "metadata": {
        "id": "0F1R1lPurSHE"
      },
      "source": [
        "data_properties_cleaned_v3"
      ],
      "execution_count": null,
      "outputs": []
    },
    {
      "cell_type": "markdown",
      "metadata": {
        "id": "TF2MuhBRrqqt"
      },
      "source": [
        "Sólo queda ciudad como una variable categórica, para pasarla a numérica se hará una codificación por metro cuadrado."
      ]
    },
    {
      "cell_type": "code",
      "metadata": {
        "id": "sYdGAN4cvwxU"
      },
      "source": [
        "data_properties_cleaned_v4 = data_properties_cleaned_v3.copy()"
      ],
      "execution_count": null,
      "outputs": []
    },
    {
      "cell_type": "code",
      "metadata": {
        "id": "DK3gUNIrwB58"
      },
      "source": [
        "data_properties_cleaned_v4.dropna(inplace=True)"
      ],
      "execution_count": null,
      "outputs": []
    },
    {
      "cell_type": "code",
      "metadata": {
        "id": "bdE8QJIGxGqO"
      },
      "source": [
        "data_properties_cleaned_v4.surface_total.value_counts()"
      ],
      "execution_count": null,
      "outputs": []
    },
    {
      "cell_type": "code",
      "metadata": {
        "id": "QwwNe461vn1u"
      },
      "source": [
        "data_properties_cleaned_v4[\"m2\"]  = data_properties_cleaned_v3.price /data_properties_cleaned_v3.surface_total"
      ],
      "execution_count": null,
      "outputs": []
    },
    {
      "cell_type": "code",
      "metadata": {
        "id": "lcSqCKuEkV9K"
      },
      "source": [
        "data_properties_cleaned_v4.head()"
      ],
      "execution_count": null,
      "outputs": []
    },
    {
      "cell_type": "markdown",
      "metadata": {
        "id": "PzRtUmj7sY-z"
      },
      "source": [
        "Determino cuanto vale el metro cuadrado en la ciudad, calculando la media."
      ]
    },
    {
      "cell_type": "code",
      "metadata": {
        "id": "ioigdZ-Lj8LD"
      },
      "source": [
        "media = data_properties_cleaned_v4[[\"m2\",\"ciudad\"]].groupby(\"ciudad\").agg(pd.Series.mean)\n",
        "media = media.to_dict()[\"m2\"]\n",
        "media"
      ],
      "execution_count": null,
      "outputs": []
    },
    {
      "cell_type": "markdown",
      "metadata": {
        "id": "A4dvL3CytGTd"
      },
      "source": [
        "Reemplazo la columna ciudad codificandolo con la media de m2."
      ]
    },
    {
      "cell_type": "code",
      "metadata": {
        "id": "-EfcQShnliRE"
      },
      "source": [
        "data_properties_cleaned_v4.ciudad = data_properties_cleaned_v4.ciudad.map(media)"
      ],
      "execution_count": null,
      "outputs": []
    },
    {
      "cell_type": "markdown",
      "metadata": {
        "id": "g_gSIudXtZ5T"
      },
      "source": [
        "Elimino la columna de m2 ya que esta supone un precio que luego tomaría el modelo para entrenarse y daría una precisión alta."
      ]
    },
    {
      "cell_type": "code",
      "metadata": {
        "id": "5uXDVzWBlnGH"
      },
      "source": [
        "data_properties_cleaned_v4.drop(columns=[\"m2\"], inplace=True)"
      ],
      "execution_count": null,
      "outputs": []
    },
    {
      "cell_type": "code",
      "metadata": {
        "id": "JtsN56_ZmDWQ"
      },
      "source": [
        "data_properties_cleaned_v4.head()"
      ],
      "execution_count": null,
      "outputs": []
    },
    {
      "cell_type": "markdown",
      "metadata": {
        "id": "-VwYpH0ltw6M"
      },
      "source": [
        "# Escalador de datos"
      ]
    },
    {
      "cell_type": "code",
      "metadata": {
        "id": "GmIX_XEyt0Vs"
      },
      "source": [
        "from sklearn.preprocessing import StandardScaler"
      ],
      "execution_count": null,
      "outputs": []
    },
    {
      "cell_type": "code",
      "metadata": {
        "id": "ri_CSATyt2sc"
      },
      "source": [
        "X = data_properties_cleaned_v4.drop(columns=[\"price\",\"currency\",\"title\",\"description\"])\n",
        "y = data_properties_cleaned_v4.price\n"
      ],
      "execution_count": null,
      "outputs": []
    },
    {
      "cell_type": "code",
      "metadata": {
        "id": "tivIgizzmbWh"
      },
      "source": [
        "scl = StandardScaler()\n",
        "scl.fit(X)"
      ],
      "execution_count": null,
      "outputs": []
    },
    {
      "cell_type": "code",
      "metadata": {
        "id": "SwYSY3TamxEQ"
      },
      "source": [
        "X_scl = scl.transform(X)\n",
        "X_scl.shape"
      ],
      "execution_count": null,
      "outputs": []
    },
    {
      "cell_type": "markdown",
      "metadata": {
        "id": "TfBuvl3qm6Si"
      },
      "source": [
        "#### Modelado"
      ]
    },
    {
      "cell_type": "markdown",
      "metadata": {
        "id": "80c4x_Az2r9e"
      },
      "source": [
        "Realizamos el modelado con los datos escalados hechos."
      ]
    },
    {
      "cell_type": "code",
      "metadata": {
        "id": "Y1gpOSbWm8P6"
      },
      "source": [
        "from sklearn.model_selection import train_test_split\n",
        "from sklearn.ensemble import RandomForestRegressor\n",
        "from sklearn.metrics import mean_absolute_error\n",
        "from sklearn.metrics import mean_squared_error"
      ],
      "execution_count": null,
      "outputs": []
    },
    {
      "cell_type": "code",
      "metadata": {
        "id": "0scZev5xnBh0"
      },
      "source": [
        "x_train, x_test, y_train, y_test = train_test_split(X_scl, y)"
      ],
      "execution_count": null,
      "outputs": []
    },
    {
      "cell_type": "code",
      "metadata": {
        "id": "q-UWqnxanW0b"
      },
      "source": [
        "model = RandomForestRegressor(100, criterion=\"mse\", max_depth=4, max_features=6)"
      ],
      "execution_count": null,
      "outputs": []
    },
    {
      "cell_type": "code",
      "metadata": {
        "id": "AEThRal1nkid"
      },
      "source": [
        "model.fit(x_train, y_train)"
      ],
      "execution_count": null,
      "outputs": []
    },
    {
      "cell_type": "code",
      "metadata": {
        "id": "9QFRGoW8oMLv"
      },
      "source": [
        "mean_absolute_error(model.predict(x_train), y_train)"
      ],
      "execution_count": null,
      "outputs": []
    },
    {
      "cell_type": "code",
      "metadata": {
        "id": "OFVXCa1RoAHG"
      },
      "source": [
        "mean_absolute_error(model.predict(x_test), y_test)"
      ],
      "execution_count": null,
      "outputs": []
    },
    {
      "cell_type": "markdown",
      "metadata": {
        "id": "kDUNqkAtmsOg"
      },
      "source": [
        "# Regresión lineal"
      ]
    },
    {
      "cell_type": "code",
      "metadata": {
        "id": "kef3eLwAsBRl"
      },
      "source": [
        "from sklearn.model_selection import train_test_split\n",
        "from sklearn.linear_model import LinearRegression\n",
        "from sklearn.linear_model import Ridge, Lasso\n",
        "from sklearn.pipeline import make_pipeline\n",
        "from sklearn.preprocessing import PolynomialFeatures\n",
        "from sklearn.model_selection import cross_val_score\n",
        "from sklearn import metrics\n",
        "from sklearn import linear_model"
      ],
      "execution_count": null,
      "outputs": []
    },
    {
      "cell_type": "markdown",
      "metadata": {
        "id": "LR278UcjM9Fj"
      },
      "source": [
        "Evaluador"
      ]
    },
    {
      "cell_type": "code",
      "metadata": {
        "id": "61zBD1ACFXlB"
      },
      "source": [
        "def cross_val(model):\n",
        "    pred = cross_val_score(model, X_scl, y, cv=10)\n",
        "    return pred.mean()\n",
        "\n",
        "def print_evaluate(true, predicted):  \n",
        "    mae = metrics.mean_absolute_error(true, predicted)\n",
        "    mse = metrics.mean_squared_error(true, predicted)\n",
        "    rmse = np.sqrt(metrics.mean_squared_error(true, predicted))\n",
        "    r2_square = metrics.r2_score(true, predicted)\n",
        "    print('MAE:', mae)\n",
        "    print('MSE:', mse)\n",
        "    print('RMSE:', rmse)\n",
        "    print('R2 Square', r2_square)\n",
        "    print('__________________________________')"
      ],
      "execution_count": null,
      "outputs": []
    },
    {
      "cell_type": "code",
      "metadata": {
        "id": "AS-tZkkgVKki"
      },
      "source": [
        "regr = linear_model.LinearRegression()\n",
        "regr.fit(x_train, y_train) "
      ],
      "execution_count": null,
      "outputs": []
    },
    {
      "cell_type": "code",
      "metadata": {
        "id": "gE3SD_84VXSa"
      },
      "source": [
        "y_predicted = regr.predict(x_test)\n",
        "cross_val(regr)\n",
        "print_evaluate(y_test,y_predicted)"
      ],
      "execution_count": null,
      "outputs": []
    },
    {
      "cell_type": "markdown",
      "metadata": {
        "id": "oKZSDrcsYEbU"
      },
      "source": [
        "Ridge\n"
      ]
    },
    {
      "cell_type": "code",
      "metadata": {
        "id": "nwzMbDTCX_3N"
      },
      "source": [
        "reg = linear_model.RidgeCV(alphas=np.logspace(-6, 6, 13))\n",
        "reg.fit(x_train, y_train) "
      ],
      "execution_count": null,
      "outputs": []
    },
    {
      "cell_type": "code",
      "metadata": {
        "id": "ARp451t_X_3W"
      },
      "source": [
        "y_predicted_r = reg.predict(x_test)\n",
        "cross_val(reg)\n",
        "print_evaluate(y_test,y_predicted_r)"
      ],
      "execution_count": null,
      "outputs": []
    },
    {
      "cell_type": "markdown",
      "metadata": {
        "id": "PwgEGjwSboRL"
      },
      "source": [
        "Lasso\n"
      ]
    },
    {
      "cell_type": "code",
      "metadata": {
        "id": "GhFDDPlNboRM"
      },
      "source": [
        "reg_l = linear_model.Lasso(alpha=2)\n",
        "reg_l.fit(x_train, y_train) "
      ],
      "execution_count": null,
      "outputs": []
    },
    {
      "cell_type": "code",
      "metadata": {
        "id": "k-2AV0gRboRO"
      },
      "source": [
        "y_predicted_l = reg_l.predict(x_test)\n",
        "cross_val(reg_l)\n",
        "print_evaluate(y_test,y_predicted_l)"
      ],
      "execution_count": null,
      "outputs": []
    },
    {
      "cell_type": "markdown",
      "metadata": {
        "id": "IHDAZGzvP14Y"
      },
      "source": [
        "#RANDOM SEARCH con GRADIENT BOOSTING\n"
      ]
    },
    {
      "cell_type": "code",
      "metadata": {
        "id": "8hwcSJRJk7NW"
      },
      "source": [
        "from sklearn.model_selection import GridSearchCV\n",
        "from sklearn.model_selection import RandomizedSearchCV\n",
        "from sklearn.ensemble import GradientBoostingRegressor\n",
        "from scipy.stats import uniform as sp_randFloat\n",
        "from scipy.stats import randint as sp_randInt"
      ],
      "execution_count": null,
      "outputs": []
    },
    {
      "cell_type": "code",
      "metadata": {
        "id": "Ei_G5fw4k7NZ"
      },
      "source": [
        "model_GB = GradientBoostingRegressor()\n",
        "parameters = {'learning_rate': sp_randFloat(),\n",
        "                  'subsample'    : sp_randFloat(),\n",
        "                  'n_estimators' : sp_randInt(100, 1000),\n",
        "                  'max_depth'    : sp_randInt(4, 10)\n",
        "                 }"
      ],
      "execution_count": null,
      "outputs": []
    },
    {
      "cell_type": "code",
      "metadata": {
        "id": "SqNl2j3hlKaU"
      },
      "source": [
        "randm_src = RandomizedSearchCV(estimator=model, param_distributions = parameters,\n",
        "                               cv = 2, n_iter = 10, n_jobs=-1)\n",
        "randm_src.fit(x_train, y_train)\n",
        "\n",
        "print(\" Results from Random Search \" )\n",
        "print(\"\\n The best estimator across ALL searched params:\\n\", randm_src.best_estimator_)\n",
        "print(\"\\n The best score across ALL searched params:\\n\", randm_src.best_score_)\n",
        "print(\"\\n The best parameters across ALL searched params:\\n\", randm_src.best_params_)"
      ],
      "execution_count": null,
      "outputs": []
    },
    {
      "cell_type": "code",
      "metadata": {
        "id": "i17wBdQ-vqbk"
      },
      "source": [
        "grboosting = GradientBoostingRegressor(alpha=0.9, ccp_alpha=0.0, criterion='friedman_mse',\n",
        "                          init=None, learning_rate=0.04081003063069022,\n",
        "                          loss='ls', max_depth=9, max_features=None,\n",
        "                          max_leaf_nodes=None, min_impurity_decrease=0.0,\n",
        "                          min_impurity_split=None, min_samples_leaf=1,\n",
        "                          min_samples_split=2, min_weight_fraction_leaf=0.0,\n",
        "                          n_estimators=592, n_iter_no_change=None,\n",
        "                          presort='deprecated', random_state=None,\n",
        "                          subsample=0.169613226680299, tol=0.0001,\n",
        "                          validation_fraction=0.1, verbose=0, warm_start=False)"
      ],
      "execution_count": null,
      "outputs": []
    },
    {
      "cell_type": "code",
      "metadata": {
        "id": "KK3sN3KqwIDF"
      },
      "source": [
        "grboosting.fit(x_train, y_train) "
      ],
      "execution_count": null,
      "outputs": []
    },
    {
      "cell_type": "code",
      "metadata": {
        "id": "n1TpdUe6wIDH"
      },
      "source": [
        "print(\"Cross Validation:\",cross_val(grboosting))\n",
        "print_evaluate(y_test,y_predictedgbl)"
      ],
      "execution_count": null,
      "outputs": []
    },
    {
      "cell_type": "code",
      "metadata": {
        "id": "Qfx-vVGqUcRM"
      },
      "source": [
        "y_predictedgbl_test = grboosting.predict(x_test)\n",
        "y_predictedgbl_train = grboosting.predict(x_train)\n",
        "metricas(y_predictedgbl_train,y_predictedgbl_test)"
      ],
      "execution_count": null,
      "outputs": []
    },
    {
      "cell_type": "markdown",
      "metadata": {
        "id": "uzVjHiZArrZo"
      },
      "source": [
        "# RANDOM FOREST REGRESSION con GRID SEARCH\n",
        "\n"
      ]
    },
    {
      "cell_type": "code",
      "metadata": {
        "id": "QBeM98bpsVgf"
      },
      "source": [
        "from sklearn.model_selection import GridSearchCV"
      ],
      "execution_count": null,
      "outputs": []
    },
    {
      "cell_type": "code",
      "metadata": {
        "id": "vhzp48rGrvRW"
      },
      "source": [
        "param_grid={'bootstrap':[True],'max_depth':[5,10,None],'max_features':['auto','log2'],'n_estimators':[5,6,7,8,9,10,11,12,13,15]}"
      ],
      "execution_count": null,
      "outputs": []
    },
    {
      "cell_type": "code",
      "metadata": {
        "id": "B6poEOd6rvW2"
      },
      "source": [
        "rfr = RandomForestRegressor(random_state = 1)"
      ],
      "execution_count": null,
      "outputs": []
    },
    {
      "cell_type": "code",
      "metadata": {
        "id": "cIFkCFhstYBH"
      },
      "source": [
        "g_search = GridSearchCV(estimator = rfr, param_grid = param_grid,cv = 3,n_jobs = 1,verbose = 0,return_train_score=True)"
      ],
      "execution_count": null,
      "outputs": []
    },
    {
      "cell_type": "code",
      "metadata": {
        "id": "RVM7RQFJtgTX"
      },
      "source": [
        "g_search.fit(x_train, y_train);\n",
        "print(g_search.best_params_)"
      ],
      "execution_count": null,
      "outputs": []
    },
    {
      "cell_type": "code",
      "metadata": {
        "id": "aq9Y5Q4mu7y_"
      },
      "source": [
        "rfr_gs = RandomForestRegressor(bootstrap=True, max_depth= None, max_features= \"log2\", n_estimators= 15)"
      ],
      "execution_count": null,
      "outputs": []
    },
    {
      "cell_type": "code",
      "metadata": {
        "id": "XcfIKpnKvbXA"
      },
      "source": [
        "rfr_gs.fit(x_train, y_train) "
      ],
      "execution_count": null,
      "outputs": []
    },
    {
      "cell_type": "code",
      "metadata": {
        "id": "JXsZoxZJvbXC"
      },
      "source": [
        "y_predictedrgs = rfr_gs.predict(x_test)\n",
        "y_predictedrgs_train = rfr_gs.predict(x_train)\n",
        "print(\"Cross Validation:\",cross_val(rfr_gs))\n",
        "print_evaluate(y_test,y_predictedrgs)"
      ],
      "execution_count": null,
      "outputs": []
    },
    {
      "cell_type": "code",
      "metadata": {
        "id": "_o0apLbxMSLw"
      },
      "source": [
        "metricas(y_predictedrgs_train,y_predictedrgs)"
      ],
      "execution_count": null,
      "outputs": []
    }
  ]
}